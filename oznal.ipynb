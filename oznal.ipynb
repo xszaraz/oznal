{
  "nbformat": 4,
  "nbformat_minor": 0,
  "metadata": {
    "colab": {
      "name": "Untitled0.ipynb",
      "provenance": [],
      "include_colab_link": true
    },
    "kernelspec": {
      "name": "python3",
      "display_name": "Python 3"
    }
  },
  "cells": [
    {
      "cell_type": "markdown",
      "metadata": {
        "id": "view-in-github",
        "colab_type": "text"
      },
      "source": [
        "<a href=\"https://colab.research.google.com/github/xszaraz/oznal/blob/master/oznal.ipynb\" target=\"_parent\"><img src=\"https://colab.research.google.com/assets/colab-badge.svg\" alt=\"Open In Colab\"/></a>"
      ]
    },
    {
      "cell_type": "code",
      "metadata": {
        "id": "-ea_R7W3tA5H",
        "colab_type": "code",
        "colab": {}
      },
      "source": [
        "#ahoj adam"
      ],
      "execution_count": 0,
      "outputs": []
    },
    {
      "cell_type": "code",
      "metadata": {
        "id": "kDFabc3Cyp6K",
        "colab_type": "code",
        "colab": {}
      },
      "source": [
        "#serus tibor"
      ],
      "execution_count": 0,
      "outputs": []
    }
  ]
}